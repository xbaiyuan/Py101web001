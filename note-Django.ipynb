{
 "cells": [
  {
   "cell_type": "markdown",
   "metadata": {},
   "source": [
    "# Django 探索记录"
   ]
  },
  {
   "cell_type": "markdown",
   "metadata": {},
   "source": [
    "## 1. 安装"
   ]
  },
  {
   "cell_type": "code",
   "execution_count": null,
   "metadata": {
    "collapsed": true
   },
   "outputs": [],
   "source": [
    "#bash\n",
    "pip install Django"
   ]
  },
  {
   "cell_type": "markdown",
   "metadata": {},
   "source": [
    "* 检验是否安装成功，与版本"
   ]
  },
  {
   "cell_type": "code",
   "execution_count": null,
   "metadata": {
    "collapsed": true
   },
   "outputs": [],
   "source": [
    "#bash\n",
    "python\n",
    "\n",
    "import django\n",
    "django.get_get_version()"
   ]
  },
  {
   "cell_type": "markdown",
   "metadata": {},
   "source": [
    "## 2. 建立服务器与页面的交互"
   ]
  },
  {
   "cell_type": "markdown",
   "metadata": {},
   "source": [
    "### 2.1 创建项目"
   ]
  },
  {
   "cell_type": "markdown",
   "metadata": {},
   "source": [
    "* 常见项目文件夹 HelloWorld"
   ]
  },
  {
   "cell_type": "code",
   "execution_count": null,
   "metadata": {
    "collapsed": true
   },
   "outputs": [],
   "source": [
    "#bash\n",
    "django-admin startproject HelloWorld"
   ]
  },
  {
   "cell_type": "code",
   "execution_count": null,
   "metadata": {
    "collapsed": true
   },
   "outputs": [],
   "source": [
    "# 文件目录结构\n",
    ".\n",
    "|-- HelloWorld\n",
    "|   |-- __init__.py\n",
    "|   |-- settings.py\n",
    "|   |-- urls.py\n",
    "|   `-- wsgi.py\n",
    "`-- manage.py"
   ]
  },
  {
   "cell_type": "markdown",
   "metadata": {},
   "source": [
    "* 查看页面，默认端口 8000"
   ]
  },
  {
   "cell_type": "code",
   "execution_count": null,
   "metadata": {
    "collapsed": true
   },
   "outputs": [],
   "source": [
    "python manage.py runserver"
   ]
  },
  {
   "cell_type": "code",
   "execution_count": null,
   "metadata": {
    "collapsed": true
   },
   "outputs": [],
   "source": [
    "#更改到 8080 端口\n",
    "python manage.py runserver 8080"
   ]
  },
  {
   "cell_type": "markdown",
   "metadata": {},
   "source": [
    "### 2.2 py 与 html 建立联系：render(  )"
   ]
  },
  {
   "cell_type": "markdown",
   "metadata": {},
   "source": [
    "* 文件与目录结构"
   ]
  },
  {
   "cell_type": "code",
   "execution_count": null,
   "metadata": {
    "collapsed": true
   },
   "outputs": [],
   "source": [
    "HelloWorld/\n",
    "|-- HelloWorld\n",
    "|   |-- __init__.py\n",
    "|   |-- __init__.pyc\n",
    "|   |-- settings.py\n",
    "|   |-- settings.pyc\n",
    "|   |-- urls.py # url 配置\n",
    "|   |-- urls.pyc\n",
    "|   |-- view.py # 视图文件\n",
    "|   |-- view.pyc # 编译后的视图文件\n",
    "|   |-- wsgi.py\n",
    "|   `-- wsgi.pyc\n",
    "|-- manage.py\n",
    "`-- templates\n",
    "    `-- hello.html # 网页"
   ]
  },
  {
   "cell_type": "markdown",
   "metadata": {},
   "source": [
    "### view.py：定义视图函数，把变量传递给 html 文件 －> render(  )"
   ]
  },
  {
   "cell_type": "code",
   "execution_count": null,
   "metadata": {
    "collapsed": true
   },
   "outputs": [],
   "source": [
    "# -*- coding: utf-8 -*-\n",
    "\n",
    "from django.shortcuts import render\n",
    "\n",
    "def hello(request):\n",
    "    context = {} #建立字典\n",
    "    context['hello'] = 'Hello World!' #写入变量\n",
    "    return render(request, 'hello.html', context) #向 html 文件传递变量"
   ]
  },
  {
   "cell_type": "markdown",
   "metadata": {},
   "source": [
    "### hello.html "
   ]
  },
  {
   "cell_type": "code",
   "execution_count": null,
   "metadata": {
    "collapsed": true
   },
   "outputs": [],
   "source": [
    "<h1>{{ hello }}</h1>"
   ]
  },
  {
   "cell_type": "markdown",
   "metadata": {},
   "source": [
    "### urls.py：绑定 URL 与视图函数"
   ]
  },
  {
   "cell_type": "code",
   "execution_count": null,
   "metadata": {
    "collapsed": true
   },
   "outputs": [],
   "source": [
    "# url 为：http://127.0.0.1:8000/\n",
    "from django.conf.urls import url\n",
    " \n",
    "from . import view\n",
    " \n",
    "urlpatterns = [\n",
    "    url(r'^$', view.hello), #view.函数 建立与视图的联系\n",
    "]"
   ]
  },
  {
   "cell_type": "code",
   "execution_count": null,
   "metadata": {
    "collapsed": true
   },
   "outputs": [],
   "source": [
    "#url 变为：http://127.0.0.1:8000/hello\n",
    "from django.conf.urls import url\n",
    " \n",
    "from . import view\n",
    " \n",
    "urlpatterns = [\n",
    "    url(r'^hello$', view.hello),\n",
    "]"
   ]
  },
  {
   "cell_type": "markdown",
   "metadata": {},
   "source": [
    "### settings.py"
   ]
  },
  {
   "cell_type": "markdown",
   "metadata": {},
   "source": [
    "修改 TEMPLATES 中的 DIRS 为： ```[BASE_DIR+\"/templates\",]，```"
   ]
  },
  {
   "cell_type": "markdown",
   "metadata": {},
   "source": [
    "### 2.3 GET 与 POST"
   ]
  },
  {
   "cell_type": "markdown",
   "metadata": {},
   "source": [
    "### 2.3.1 GET"
   ]
  },
  {
   "cell_type": "markdown",
   "metadata": {},
   "source": [
    "* 效果：输入，跳转页面"
   ]
  },
  {
   "cell_type": "markdown",
   "metadata": {},
   "source": [
    "#### 添加表单：```<form>``` 设置为 method=\"get\""
   ]
  },
  {
   "cell_type": "code",
   "execution_count": null,
   "metadata": {
    "collapsed": true
   },
   "outputs": [],
   "source": [
    "# 含表单的网页文件名为：search_form.html\n",
    "<form action=\"/search\" method=\"get\">\n",
    "    <input type=\"text\" name=\"q\">\n",
    "    <input type=\"submit\" value=\"搜索\">\n",
    "</form>"
   ]
  },
  {
   "cell_type": "markdown",
   "metadata": {},
   "source": [
    "#### 视图文件：用于接收用户的请求"
   ]
  },
  {
   "cell_type": "code",
   "execution_count": null,
   "metadata": {
    "collapsed": true
   },
   "outputs": [],
   "source": [
    "# -*- coding: utf-8 -*-\n",
    " \n",
    "from django.http import HttpResponse\n",
    "from django.shortcuts import render_to_response\n",
    " \n",
    "# 连接含有表单的网页\n",
    "def search_form(request):\n",
    "    return render_to_response('search_form.html')\n",
    " \n",
    "# 接收请求数据\n",
    "def search(request):  \n",
    "    request.encoding='utf-8'\n",
    "    if 'q' in request.GET:\n",
    "        message = '你搜索的内容为: ' + request.GET['q'].encode('utf-8')\n",
    "    else:\n",
    "        message = '你提交了空表单'\n",
    "    return HttpResponse(message)#传递变量 message"
   ]
  },
  {
   "cell_type": "markdown",
   "metadata": {},
   "source": [
    "#### urls.py"
   ]
  },
  {
   "cell_type": "code",
   "execution_count": null,
   "metadata": {
    "collapsed": true
   },
   "outputs": [],
   "source": [
    "from django.conf.urls import url\n",
    "from . import search\n",
    " \n",
    "urlpatterns = [\n",
    "    url(r'^search-form$', search.search_form),\n",
    "    url(r'^search$', search.search),\n",
    "]"
   ]
  },
  {
   "cell_type": "markdown",
   "metadata": {},
   "source": [
    "### 2.3.1 POST"
   ]
  },
  {
   "cell_type": "markdown",
   "metadata": {},
   "source": [
    "* 效果：输入，同一页面传入变量\n",
    "* 这里本质上是 get＋post，在 post 之前做了判断"
   ]
  },
  {
   "cell_type": "markdown",
   "metadata": {},
   "source": [
    "#### html"
   ]
  },
  {
   "cell_type": "code",
   "execution_count": null,
   "metadata": {
    "collapsed": true
   },
   "outputs": [],
   "source": [
    "<!DOCTYPE html>\n",
    "<html>\n",
    "<head>\n",
    "<meta charset=\"utf-8\">\n",
    "<title>菜鸟教程(runoob.com)</title>\n",
    "</head>\n",
    "<body>\n",
    "    <form action=\"/search-post\" method=\"post\">\n",
    "        {% csrf_token %}\n",
    "        <input type=\"text\" name=\"q\">\n",
    "        <input type=\"submit\" value=\"Submit\">\n",
    "    </form>\n",
    " \n",
    "    <p>{{ rlt }}</p>\n",
    "</body>\n",
    "</html>"
   ]
  },
  {
   "cell_type": "markdown",
   "metadata": {},
   "source": [
    "#### 视图文件"
   ]
  },
  {
   "cell_type": "code",
   "execution_count": null,
   "metadata": {
    "collapsed": true
   },
   "outputs": [],
   "source": [
    "# -*- coding: utf-8 -*-\n",
    " \n",
    "from django.shortcuts import render\n",
    "from django.views.decorators import csrf\n",
    " \n",
    "# 接收POST请求数据\n",
    "def search_post(request):\n",
    "    ctx ={}\n",
    "    if request.POST:#判断是 get 还是 post\n",
    "        ctx['rlt'] = request.POST['q']\n",
    "    return render(request, \"post.html\", ctx)#传递变量"
   ]
  },
  {
   "cell_type": "markdown",
   "metadata": {},
   "source": [
    "#### urls.py"
   ]
  },
  {
   "cell_type": "code",
   "execution_count": null,
   "metadata": {
    "collapsed": true
   },
   "outputs": [],
   "source": [
    "from django.conf.urls import url\n",
    "from . import search\n",
    " \n",
    "urlpatterns = [\n",
    "    url(r'^$', search.search_post),\n",
    "]"
   ]
  }
 ],
 "metadata": {
  "anaconda-cloud": {},
  "kernelspec": {
   "display_name": "Python [default]",
   "language": "python",
   "name": "python3"
  },
  "language_info": {
   "codemirror_mode": {
    "name": "ipython",
    "version": 3
   },
   "file_extension": ".py",
   "mimetype": "text/x-python",
   "name": "python",
   "nbconvert_exporter": "python",
   "pygments_lexer": "ipython3",
   "version": "3.5.2"
  }
 },
 "nbformat": 4,
 "nbformat_minor": 1
}
