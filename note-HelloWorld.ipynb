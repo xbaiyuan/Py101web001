{
 "cells": [
  {
   "cell_type": "markdown",
   "metadata": {},
   "source": [
    "# HalloWorld by Django"
   ]
  },
  {
   "cell_type": "markdown",
   "metadata": {},
   "source": [
    "## 1. 安装"
   ]
  },
  {
   "cell_type": "code",
   "execution_count": null,
   "metadata": {
    "collapsed": true
   },
   "outputs": [],
   "source": [
    "#bash\n",
    "pip install Django"
   ]
  },
  {
   "cell_type": "markdown",
   "metadata": {},
   "source": [
    "* 检验是否安装成功，查看版本"
   ]
  },
  {
   "cell_type": "code",
   "execution_count": null,
   "metadata": {
    "collapsed": true
   },
   "outputs": [],
   "source": [
    "#bash\n",
    "python\n",
    "\n",
    "import django\n",
    "django.get_get_version()"
   ]
  },
  {
   "cell_type": "markdown",
   "metadata": {},
   "source": [
    "## 2. 创建项目"
   ]
  },
  {
   "cell_type": "markdown",
   "metadata": {},
   "source": [
    "* 创建项目文件夹 HelloWorld"
   ]
  },
  {
   "cell_type": "code",
   "execution_count": null,
   "metadata": {
    "collapsed": true
   },
   "outputs": [],
   "source": [
    "#bash\n",
    "django-admin startproject HelloWorld"
   ]
  },
  {
   "cell_type": "code",
   "execution_count": null,
   "metadata": {
    "collapsed": true
   },
   "outputs": [],
   "source": [
    "# 文件目录结构\n",
    ".\n",
    "|-- HelloWorld #项目容器\n",
    "|   |-- __init__.py\n",
    "|   |-- settings.py #设置/配置\n",
    "|   |-- urls.py #URL 声明\n",
    "|   `-- wsgi.py #WSGI 兼容的 Web 服务器入口\n",
    "`-- manage.py #通过该文件与 Django 项目进行交互（运行文件）"
   ]
  },
  {
   "cell_type": "markdown",
   "metadata": {},
   "source": [
    "* 查看页面，默认端口 8000"
   ]
  },
  {
   "cell_type": "code",
   "execution_count": null,
   "metadata": {
    "collapsed": true
   },
   "outputs": [],
   "source": [
    "#bash\n",
    "#运行 manage.py 需先 cd 进入 HelloWorld（manage.py 所在文件夹）\n",
    "python manage.py runserver"
   ]
  },
  {
   "cell_type": "code",
   "execution_count": null,
   "metadata": {
    "collapsed": true
   },
   "outputs": [],
   "source": [
    "#更改到 8080 端口\n",
    "python manage.py runserver 8080"
   ]
  },
  {
   "cell_type": "markdown",
   "metadata": {},
   "source": [
    "## 3. 视图与 URL 配置"
   ]
  },
  {
   "cell_type": "markdown",
   "metadata": {},
   "source": [
    "### 视图文件：HelloWorld/HelloWorld/view.py"
   ]
  },
  {
   "cell_type": "code",
   "execution_count": null,
   "metadata": {
    "collapsed": true
   },
   "outputs": [],
   "source": [
    "from django.http import HttpResponse\n",
    "\n",
    "#定义函数\n",
    "def hello(request):\n",
    "    return HttpResponse(\"Hello world ! \")"
   ]
  },
  {
   "cell_type": "markdown",
   "metadata": {},
   "source": [
    "### URL 文件：HelloWorld/HelloWorld/urls.py"
   ]
  },
  {
   "cell_type": "code",
   "execution_count": null,
   "metadata": {
    "collapsed": true
   },
   "outputs": [],
   "source": [
    "from django.conf.urls import url\n",
    " \n",
    "from . import view #从所在文件夹引入 view.py 文件\n",
    " \n",
    "urlpatterns = [\n",
    "    url(r'^$', view.hello),\n",
    "]#输入地址（http://127.0.0.1:8000），调用 view.py 内的 hello 函数"
   ]
  },
  {
   "cell_type": "markdown",
   "metadata": {},
   "source": [
    "* 修改地址"
   ]
  },
  {
   "cell_type": "code",
   "execution_count": null,
   "metadata": {
    "collapsed": true
   },
   "outputs": [],
   "source": [
    "from django.conf.urls import url\n",
    " \n",
    "from . import view\n",
    " \n",
    "urlpatterns = [\n",
    "    url(r'^hello$', view.hello),\n",
    "]#输入地址（http://127.0.0.1:8000/hello），调用 view.py 内的 hello 函数"
   ]
  }
 ],
 "metadata": {
  "kernelspec": {
   "display_name": "Python [conda root]",
   "language": "python",
   "name": "conda-root-py"
  },
  "language_info": {
   "codemirror_mode": {
    "name": "ipython",
    "version": 3
   },
   "file_extension": ".py",
   "mimetype": "text/x-python",
   "name": "python",
   "nbconvert_exporter": "python",
   "pygments_lexer": "ipython3",
   "version": "3.5.2"
  }
 },
 "nbformat": 4,
 "nbformat_minor": 1
}
