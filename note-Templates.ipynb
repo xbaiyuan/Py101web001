{
 "cells": [
  {
   "cell_type": "markdown",
   "metadata": {},
   "source": [
    "参考资料：\n",
    "* 《Flask Web开发：基于Python的Web应用开发实战》"
   ]
  },
  {
   "cell_type": "markdown",
   "metadata": {},
   "source": [
    "# 模板"
   ]
  },
  {
   "cell_type": "markdown",
   "metadata": {
    "collapsed": true
   },
   "source": [
    "* 视图函数：生成请求的响应，传递变量给界面，改变程序\n",
    "* 模板：用占位变量来代表传递来的变量\n",
    "* 文件：templates/index.html（Jinja 模板）"
   ]
  },
  {
   "cell_type": "code",
   "execution_count": null,
   "metadata": {
    "collapsed": true
   },
   "outputs": [],
   "source": [
    "#创建项目\n",
    "#bash\n",
    "django-admin startproject TemplatesSample"
   ]
  },
  {
   "cell_type": "markdown",
   "metadata": {},
   "source": [
    "## 1. 视图文件与 html 文件"
   ]
  },
  {
   "cell_type": "markdown",
   "metadata": {},
   "source": [
    "* 文件与目录结构"
   ]
  },
  {
   "cell_type": "code",
   "execution_count": null,
   "metadata": {
    "collapsed": true
   },
   "outputs": [],
   "source": [
    "TemplatesSample/\n",
    "|-- TemplatesSample\n",
    "|   |-- __init__.py\n",
    "|   |-- __init__.pyc\n",
    "|   |-- settings.py #设置/配置\n",
    "|   |-- urls.py #url 声明\n",
    "|   |-- view.py #视图文件\n",
    "|   `-- wsgi.py\n",
    "|-- manage.py\n",
    "`-- templates\n",
    "    `-- index.html #网页"
   ]
  },
  {
   "cell_type": "markdown",
   "metadata": {},
   "source": [
    "### 修改配置"
   ]
  },
  {
   "cell_type": "markdown",
   "metadata": {},
   "source": [
    "* settings.py：修改 TEMPLATES 中的 DIRS 为： [BASE_DIR+\"/templates\",]，"
   ]
  },
  {
   "cell_type": "markdown",
   "metadata": {},
   "source": [
    "### html 文件：写入变量（Jinja 模板）"
   ]
  },
  {
   "cell_type": "markdown",
   "metadata": {},
   "source": [
    "* 变量表示方式：{{变量名称}}\n",
    "* 判断语句表示方式:\n",
    "```\n",
    "{% if 判断 %}  \n",
    "    结果 a  \n",
    "{% elif 判断 %}  \n",
    "    结果 b  \n",
    "{% else %}  \n",
    "{% endif %}\n",
    "```\n",
    "\n",
    "* 循环语句表示方式：\n",
    "```\n",
    "{% for i in l %}  \n",
    "    操作  \n",
    "{% endfor %}\n",
    "```"
   ]
  },
  {
   "cell_type": "code",
   "execution_count": null,
   "metadata": {
    "collapsed": true
   },
   "outputs": [],
   "source": [
    "#index.html\n",
    "<h1>{{ hello }}</h1>"
   ]
  },
  {
   "cell_type": "markdown",
   "metadata": {},
   "source": [
    "### 视图文件：向 html 文件传递变量"
   ]
  },
  {
   "cell_type": "markdown",
   "metadata": {},
   "source": [
    "* 视图文件向 html 文件传递变量：\n",
    "    * 第一步：创建字典，写入变量\n",
    "    * 第二步：render() 传递变量，render(request, 'html 文件名', 变量名)"
   ]
  },
  {
   "cell_type": "code",
   "execution_count": null,
   "metadata": {
    "collapsed": true
   },
   "outputs": [],
   "source": [
    "# -*- coding: utf-8 -*-\n",
    "\n",
    "from django.shortcuts import render\n",
    "\n",
    "def hello(request):\n",
    "    context = {} #建立字典\n",
    "    context['hello'] = 'Hello World!' #写入变量\n",
    "    return render(request, 'hello.html', context) #向 html 文件传递变量"
   ]
  },
  {
   "cell_type": "markdown",
   "metadata": {},
   "source": [
    "### URL 声明：绑定 URL 与视图函数"
   ]
  },
  {
   "cell_type": "code",
   "execution_count": null,
   "metadata": {
    "collapsed": true
   },
   "outputs": [],
   "source": [
    "# url 为：http://127.0.0.1:8000/\n",
    "from django.conf.urls import url\n",
    " \n",
    "from . import view\n",
    " \n",
    "urlpatterns = [\n",
    "    url(r'^$', view.hello), #view.函数 建立与视图的联系\n",
    "]"
   ]
  },
  {
   "cell_type": "markdown",
   "metadata": {},
   "source": [
    "## 2. Bootstrap"
   ]
  },
  {
   "cell_type": "code",
   "execution_count": null,
   "metadata": {
    "collapsed": true
   },
   "outputs": [],
   "source": []
  }
 ],
 "metadata": {
  "anaconda-cloud": {},
  "kernelspec": {
   "display_name": "Python [default]",
   "language": "python",
   "name": "python3"
  },
  "language_info": {
   "codemirror_mode": {
    "name": "ipython",
    "version": 3
   },
   "file_extension": ".py",
   "mimetype": "text/x-python",
   "name": "python",
   "nbconvert_exporter": "python",
   "pygments_lexer": "ipython3",
   "version": "3.5.2"
  }
 },
 "nbformat": 4,
 "nbformat_minor": 1
}
